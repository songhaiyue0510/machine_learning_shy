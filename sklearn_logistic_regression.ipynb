{
 "cells": [
  {
   "cell_type": "code",
   "execution_count": 2,
   "metadata": {},
   "outputs": [],
   "source": [
    "from sklearn.linear_model import LogisticRegression as LR \n",
    "from sklearn.datasets import load_breast_cancer\n",
    "\n",
    "from sklearn.model_selection import train_test_split\n",
    "from sklearn.metrics import accuracy_score\n",
    "\n",
    "import numpy as np\n",
    "import matplotlib.pyplot as plt "
   ]
  },
  {
   "cell_type": "code",
   "execution_count": 3,
   "metadata": {},
   "outputs": [
    {
     "data": {
      "text/plain": [
       "(569, 30)"
      ]
     },
     "execution_count": 3,
     "metadata": {},
     "output_type": "execute_result"
    }
   ],
   "source": [
    "data=load_breast_cancer()\n",
    "x=data.data\n",
    "y=data.target\n",
    "data.data.shape"
   ]
  },
  {
   "cell_type": "code",
   "execution_count": 4,
   "metadata": {},
   "outputs": [],
   "source": [
    "## 实例化+训练，solver不需要写\n",
    "lrl1=LR(penalty=\"l1\",solver=\"liblinear\",C=0.5,max_iter=1000)\n",
    "lrl2=LR(penalty=\"l2\",solver=\"liblinear\",C=0.5,max_iter=1000)\n",
    "lrl1=lrl1.fit(x,y)\n",
    "lrl2=lrl2.fit(x,y)"
   ]
  },
  {
   "cell_type": "code",
   "execution_count": 5,
   "metadata": {},
   "outputs": [
    {
     "data": {
      "text/plain": [
       "array([[ 4.00940371,  0.03220173, -0.13852815, -0.01622115,  0.        ,\n",
       "         0.        ,  0.        ,  0.        ,  0.        ,  0.        ,\n",
       "         0.        ,  0.50555463,  0.        , -0.07128686,  0.        ,\n",
       "         0.        ,  0.        ,  0.        ,  0.        ,  0.        ,\n",
       "         0.        , -0.24606943, -0.12856361, -0.01440685,  0.        ,\n",
       "         0.        , -2.03305923,  0.        ,  0.        ,  0.        ]])"
      ]
     },
     "execution_count": 5,
     "metadata": {},
     "output_type": "execute_result"
    }
   ],
   "source": [
    "## 逻辑回归的重要属性coef_,查看每个特征对应的参数\n",
    "lrl1.coef_"
   ]
  },
  {
   "cell_type": "code",
   "execution_count": 6,
   "metadata": {},
   "outputs": [
    {
     "data": {
      "text/plain": [
       "array([[ 1.61520498e+00,  1.03165077e-01,  4.89949912e-02,\n",
       "        -4.54501839e-03, -9.48008442e-02, -3.01421091e-01,\n",
       "        -4.56859977e-01, -2.23258644e-01, -1.36553775e-01,\n",
       "        -1.93906452e-02,  1.51863698e-02,  8.84898768e-01,\n",
       "         1.16165402e-01, -9.44763010e-02, -9.89655843e-03,\n",
       "        -2.29725881e-02, -5.65958129e-02, -2.71050978e-02,\n",
       "        -2.78528014e-02,  3.23039398e-04,  1.25588920e+00,\n",
       "        -3.02228846e-01, -1.72470625e-01, -2.21057469e-02,\n",
       "        -1.74443731e-01, -8.78235976e-01, -1.16396035e+00,\n",
       "        -4.29422429e-01, -4.23200446e-01, -8.69294093e-02]])"
      ]
     },
     "execution_count": 6,
     "metadata": {},
     "output_type": "execute_result"
    }
   ],
   "source": [
    "lrl2.coef_"
   ]
  },
  {
   "cell_type": "code",
   "execution_count": 9,
   "metadata": {},
   "outputs": [
    {
     "data": {
      "text/plain": [
       "array([[ True,  True,  True,  True,  True,  True,  True,  True,  True,\n",
       "         True,  True,  True,  True,  True,  True,  True,  True,  True,\n",
       "         True,  True,  True,  True,  True,  True,  True,  True,  True,\n",
       "         True,  True,  True]])"
      ]
     },
     "execution_count": 9,
     "metadata": {},
     "output_type": "execute_result"
    }
   ],
   "source": [
    "lrl2.coef_!=0"
   ]
  },
  {
   "cell_type": "code",
   "execution_count": 19,
   "metadata": {},
   "outputs": [
    {
     "data": {
      "image/png": "[encoded data removed]",
      "text/plain": [
       "<Figure size 432x432 with 1 Axes>"
      ]
     },
     "metadata": {
      "needs_background": "light"
     },
     "output_type": "display_data"
    }
   ],
   "source": [
    "## 哪个正则化效果更好？\n",
    "l1=[]\n",
    "l2=[]\n",
    "l1test=[]\n",
    "l2test=[]\n",
    "train_x,test_x,train_y,test_y=train_test_split(x,y,test_size=0.3,random_state=420)\n",
    "for i in np.linspace(0.05,1,19): ## 0.05到1取19个数\n",
    "    lrl1=LR(penalty=\"l1\",solver=\"liblinear\",C=i,max_iter=1000)\n",
    "    lrl2=LR(penalty=\"l2\",solver=\"liblinear\",C=i,max_iter=1000)  \n",
    "    lrl1=lrl1.fit(train_x,train_y)\n",
    "    lrl2=lrl2.fit(train_x,train_y)\n",
    "    \n",
    "    # 准确率两种方式\n",
    "#     l1.append(accuracy_score(lrl1.predict(train_x),train_y))\n",
    "#     l1test.append(accuracy_score(lrl1.predict(test_x),test_y))\n",
    "#     l2.append(accuracy_score(lrl2.predict(train_x),train_y))\n",
    "#     l2test.append(accuracy_score(lrl2.predict(test_x),test_y))\n",
    "    \n",
    "    l1.append(lrl1.score(train_x,train_y))\n",
    "    l1test.append(lrl1.score(test_x,test_y))\n",
    "    l2.append(lrl2.score(train_x,train_y))\n",
    "    l2test.append(lrl2.score(test_x,test_y))\n",
    "    \n",
    "graph=[l1,l2,l1test,l2test]\n",
    "color=['green','black','lightgreen','gray']\n",
    "label=[\"L1\",\"L2\",\"L1test\",\"L2test\"]\n",
    "\n",
    "plt.figure(figsize=(6,6))\n",
    "for i in range(len(graph)):\n",
    "    plt.plot(np.linspace(0.05,1,19),graph[i],color[i],label=label[i])\n",
    "plt.legend(loc=4) ## 图例的位置在哪里？4表示在右下角，具体可以用shift+tab的解释\n",
    "plt.show()"
   ]
  },
  {
   "cell_type": "code",
   "execution_count": null,
   "metadata": {},
   "outputs": [],
   "source": []
  }
 ],
 "metadata": {
  "kernelspec": {
   "display_name": "Python 3",
   "language": "python",
   "name": "python3"
  },
  "language_info": {
   "codemirror_mode": {
    "name": "ipython",
    "version": 3
   },
   "file_extension": ".py",
   "mimetype": "text/x-python",
   "name": "python",
   "nbconvert_exporter": "python",
   "pygments_lexer": "ipython3",
   "version": "3.7.4"
  }
 },
 "nbformat": 4,
 "nbformat_minor": 4
}
